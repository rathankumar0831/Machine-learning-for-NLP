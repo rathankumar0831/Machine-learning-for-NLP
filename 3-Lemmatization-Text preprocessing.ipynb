{
 "cells": [
  {
   "cell_type": "markdown",
   "id": "f706a640-eaea-4282-a0cb-e9f1764f779b",
   "metadata": {},
   "source": [
    "## Wordnet Lemmatizer"
   ]
  },
  {
   "cell_type": "markdown",
   "id": "aaf7d721-fe80-4ddd-8a52-c17d38d6ebb2",
   "metadata": {},
   "source": [
    "Lemmatization technique is like stemming. the output we will get after lemmatization is called 'lemma', which is a root word rather than root stem, the output of stemming. After lemmatization,we will be getting a valid word that means the same thing.\n",
    "\n",
    "NLTK provides WordNetLemmatizer class which is a thin wrapper around the wordnet corpus. This class uses morphy() function to\n",
    "the WordNet CorpusReader class to find a lemma. let us Understand it with an example\n",
    "\n",
    "Usecases - Q&A, chatbots, text summarization"
   ]
  },
  {
   "cell_type": "code",
   "execution_count": 9,
   "id": "6e0d079b-4145-4831-9d03-05dba19cc1e3",
   "metadata": {},
   "outputs": [],
   "source": [
    "from nltk.stem import WordNetLemmatizer"
   ]
  },
  {
   "cell_type": "code",
   "execution_count": 10,
   "id": "7f2ce071-c6e0-4c9d-80c1-624f67fe3d10",
   "metadata": {},
   "outputs": [],
   "source": [
    "lemmatizer = WordNetLemmatizer()"
   ]
  },
  {
   "cell_type": "code",
   "execution_count": 11,
   "id": "406c074c-491d-4c68-9a1b-072ad7b87dd9",
   "metadata": {},
   "outputs": [],
   "source": [
    "words=[\"eating\",\"eats\",\"eaten\",\"writing\",\"writes\",\"programming\",\"programs\",\"history\",\"finally\",\"finalized\"]"
   ]
  },
  {
   "cell_type": "code",
   "execution_count": 12,
   "id": "cd9379b0-3e16-4344-a00f-d5fe87f26ec6",
   "metadata": {},
   "outputs": [
    {
     "name": "stdout",
     "output_type": "stream",
     "text": [
      "eating----->eating\n",
      "eats----->eats\n",
      "eaten----->eaten\n",
      "writing----->writing\n",
      "writes----->writes\n",
      "programming----->programming\n",
      "programs----->program\n",
      "history----->history\n",
      "finally----->finally\n",
      "finalized----->finalized\n"
     ]
    }
   ],
   "source": [
    "for word in words:\n",
    "    print(word+'----->'+lemmatizer.lemmatize(word))"
   ]
  },
  {
   "cell_type": "code",
   "execution_count": 17,
   "id": "88c2e84f-d7b0-4cc6-a45a-5ec51fae3558",
   "metadata": {},
   "outputs": [
    {
     "data": {
      "text/plain": [
       "\"\\npos - \\nnoun - 'n',\\nverb - 'v',\\nadjective - 'a',\\nadverb - 'r'\\n\""
      ]
     },
     "execution_count": 17,
     "metadata": {},
     "output_type": "execute_result"
    }
   ],
   "source": [
    "'''\n",
    "pos - \n",
    "noun - 'n',\n",
    "verb - 'v',\n",
    "adjective - 'a',\n",
    "adverb - 'r'\n",
    "'''"
   ]
  },
  {
   "cell_type": "code",
   "execution_count": 14,
   "id": "f139a85a-089d-423e-9954-101ffe96f129",
   "metadata": {},
   "outputs": [
    {
     "name": "stdout",
     "output_type": "stream",
     "text": [
      "eating----->eat\n",
      "eats----->eat\n",
      "eaten----->eat\n",
      "writing----->write\n",
      "writes----->write\n",
      "programming----->program\n",
      "programs----->program\n",
      "history----->history\n",
      "finally----->finally\n",
      "finalized----->finalize\n"
     ]
    }
   ],
   "source": [
    "for word in words:\n",
    "    print(word+'----->'+lemmatizer.lemmatize(word, pos = 'v'))"
   ]
  },
  {
   "cell_type": "code",
   "execution_count": 15,
   "id": "a3ab8375-44ab-4f58-a30a-b09378285b81",
   "metadata": {},
   "outputs": [
    {
     "data": {
      "text/plain": [
       "('go', 'go')"
      ]
     },
     "execution_count": 15,
     "metadata": {},
     "output_type": "execute_result"
    }
   ],
   "source": [
    "lemmatizer.lemmatize('goes'), lemmatizer.lemmatize('going', pos='v')"
   ]
  },
  {
   "cell_type": "code",
   "execution_count": 16,
   "id": "cd9f0d1c-a17d-4dfc-9bdd-38cd078bacc6",
   "metadata": {},
   "outputs": [
    {
     "data": {
      "text/plain": [
       "('fairly', 'sportingly')"
      ]
     },
     "execution_count": 16,
     "metadata": {},
     "output_type": "execute_result"
    }
   ],
   "source": [
    "lemmatizer.lemmatize('fairly'), lemmatizer.lemmatize('sportingly')"
   ]
  },
  {
   "cell_type": "code",
   "execution_count": null,
   "id": "0df6515e-ca5a-480e-865f-1578fa690281",
   "metadata": {},
   "outputs": [],
   "source": []
  },
  {
   "cell_type": "code",
   "execution_count": null,
   "id": "e6578e7f-addb-4320-8526-7bae807d6310",
   "metadata": {},
   "outputs": [],
   "source": []
  }
 ],
 "metadata": {
  "kernelspec": {
   "display_name": "Python 3 (ipykernel)",
   "language": "python",
   "name": "python3"
  },
  "language_info": {
   "codemirror_mode": {
    "name": "ipython",
    "version": 3
   },
   "file_extension": ".py",
   "mimetype": "text/x-python",
   "name": "python",
   "nbconvert_exporter": "python",
   "pygments_lexer": "ipython3",
   "version": "3.11.5"
  }
 },
 "nbformat": 4,
 "nbformat_minor": 5
}
