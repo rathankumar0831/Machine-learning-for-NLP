{
 "cells": [
  {
   "cell_type": "code",
   "execution_count": 1,
   "id": "456ae317-3c3e-4ac0-860e-de45d3ae7fe3",
   "metadata": {},
   "outputs": [],
   "source": [
    "corpus = \"\"\" Hello welcome,  to rathan's page.\n",
    "i'm interest to learn GEN AI! i want to do some projects based on GenAI.\n",
    "\"\"\""
   ]
  },
  {
   "cell_type": "code",
   "execution_count": 2,
   "id": "58609fcc-83eb-4b5e-857f-9f960c4060f3",
   "metadata": {},
   "outputs": [
    {
     "name": "stdout",
     "output_type": "stream",
     "text": [
      " Hello welcome,  to rathan's page.\n",
      "i'm interest to learn GEN AI! i want to do some projects based on GenAI.\n",
      "\n"
     ]
    }
   ],
   "source": [
    "print(corpus)"
   ]
  },
  {
   "cell_type": "markdown",
   "id": "b87ada75-546d-49ca-97fd-129fca384a37",
   "metadata": {},
   "source": [
    "### Tokenization"
   ]
  },
  {
   "cell_type": "code",
   "execution_count": 3,
   "id": "b15646b5-d664-49a7-8147-bf3910ef088a",
   "metadata": {},
   "outputs": [],
   "source": [
    "##Paragraphs --> Sentences\n",
    "from nltk.tokenize import sent_tokenize"
   ]
  },
  {
   "cell_type": "code",
   "execution_count": 4,
   "id": "3e25b1ad-7070-402a-98e4-9280d15baec5",
   "metadata": {},
   "outputs": [],
   "source": [
    "documents = sent_tokenize(corpus)"
   ]
  },
  {
   "cell_type": "code",
   "execution_count": 5,
   "id": "5e334872-275a-457d-b012-7199b905658e",
   "metadata": {},
   "outputs": [
    {
     "name": "stdout",
     "output_type": "stream",
     "text": [
      " Hello welcome,  to rathan's page.\n",
      "i'm interest to learn GEN AI!\n",
      "i want to do some projects based on GenAI.\n"
     ]
    }
   ],
   "source": [
    "for sentence in documents:\n",
    "    print(sentence)"
   ]
  },
  {
   "cell_type": "code",
   "execution_count": 6,
   "id": "893e9afc-7e84-4e69-83ca-38aac2237f75",
   "metadata": {},
   "outputs": [
    {
     "data": {
      "text/plain": [
       "list"
      ]
     },
     "execution_count": 6,
     "metadata": {},
     "output_type": "execute_result"
    }
   ],
   "source": [
    "type(documents)"
   ]
  },
  {
   "cell_type": "code",
   "execution_count": 7,
   "id": "fbbdb68e-4bfb-4b17-ae69-d9a516cb48ae",
   "metadata": {},
   "outputs": [],
   "source": [
    "## sentences --> words or paragraphs --> words\n",
    "from nltk.tokenize import word_tokenize"
   ]
  },
  {
   "cell_type": "code",
   "execution_count": 8,
   "id": "c3c0064e-daef-4420-b696-721cdb472fbb",
   "metadata": {},
   "outputs": [
    {
     "data": {
      "text/plain": [
       "['Hello',\n",
       " 'welcome',\n",
       " ',',\n",
       " 'to',\n",
       " 'rathan',\n",
       " \"'s\",\n",
       " 'page',\n",
       " '.',\n",
       " 'i',\n",
       " \"'m\",\n",
       " 'interest',\n",
       " 'to',\n",
       " 'learn',\n",
       " 'GEN',\n",
       " 'AI',\n",
       " '!',\n",
       " 'i',\n",
       " 'want',\n",
       " 'to',\n",
       " 'do',\n",
       " 'some',\n",
       " 'projects',\n",
       " 'based',\n",
       " 'on',\n",
       " 'GenAI',\n",
       " '.']"
      ]
     },
     "execution_count": 8,
     "metadata": {},
     "output_type": "execute_result"
    }
   ],
   "source": [
    "## paragraph --> Words\n",
    "word_tokenize(corpus)"
   ]
  },
  {
   "cell_type": "code",
   "execution_count": 9,
   "id": "7c1923d7-37d8-4001-a4cb-2cb4673c47be",
   "metadata": {},
   "outputs": [
    {
     "name": "stdout",
     "output_type": "stream",
     "text": [
      "['Hello', 'welcome', ',', 'to', 'rathan', \"'s\", 'page', '.']\n",
      "['i', \"'m\", 'interest', 'to', 'learn', 'GEN', 'AI', '!']\n",
      "['i', 'want', 'to', 'do', 'some', 'projects', 'based', 'on', 'GenAI', '.']\n"
     ]
    }
   ],
   "source": [
    "## sentences --> words\n",
    "for sentence in documents:\n",
    "    print(word_tokenize(sentence))"
   ]
  },
  {
   "cell_type": "code",
   "execution_count": 11,
   "id": "d8adea0d-e06f-4fbc-9d35-df41ff0a5e86",
   "metadata": {},
   "outputs": [
    {
     "data": {
      "text/plain": [
       "['Hello',\n",
       " 'welcome',\n",
       " ',',\n",
       " 'to',\n",
       " 'rathan',\n",
       " \"'\",\n",
       " 's',\n",
       " 'page',\n",
       " '.',\n",
       " 'i',\n",
       " \"'\",\n",
       " 'm',\n",
       " 'interest',\n",
       " 'to',\n",
       " 'learn',\n",
       " 'GEN',\n",
       " 'AI',\n",
       " '!',\n",
       " 'i',\n",
       " 'want',\n",
       " 'to',\n",
       " 'do',\n",
       " 'some',\n",
       " 'projects',\n",
       " 'based',\n",
       " 'on',\n",
       " 'GenAI',\n",
       " '.']"
      ]
     },
     "execution_count": 11,
     "metadata": {},
     "output_type": "execute_result"
    }
   ],
   "source": [
    "## wordpunct_tokenize ( here the punctuation also treated as words)\n",
    "from nltk.tokenize import wordpunct_tokenize\n",
    "wordpunct_tokenize(corpus)"
   ]
  },
  {
   "cell_type": "code",
   "execution_count": 13,
   "id": "6ffb3214-5535-47d5-b815-9bd6c458b539",
   "metadata": {},
   "outputs": [
    {
     "data": {
      "text/plain": [
       "['Hello',\n",
       " 'welcome',\n",
       " ',',\n",
       " 'to',\n",
       " 'rathan',\n",
       " \"'s\",\n",
       " 'page.',\n",
       " 'i',\n",
       " \"'m\",\n",
       " 'interest',\n",
       " 'to',\n",
       " 'learn',\n",
       " 'GEN',\n",
       " 'AI',\n",
       " '!',\n",
       " 'i',\n",
       " 'want',\n",
       " 'to',\n",
       " 'do',\n",
       " 'some',\n",
       " 'projects',\n",
       " 'based',\n",
       " 'on',\n",
       " 'GenAI',\n",
       " '.']"
      ]
     },
     "execution_count": 13,
     "metadata": {},
     "output_type": "execute_result"
    }
   ],
   "source": [
    "## treebankwordtokenizer\n",
    "from nltk.tokenize import TreebankWordTokenizer\n",
    "tokenizer = TreebankWordTokenizer()\n",
    "tokenizer.tokenize(corpus)"
   ]
  },
  {
   "cell_type": "code",
   "execution_count": null,
   "id": "e8527f38-2c35-4266-9da3-aeacd2c96817",
   "metadata": {},
   "outputs": [],
   "source": []
  }
 ],
 "metadata": {
  "kernelspec": {
   "display_name": "Python 3 (ipykernel)",
   "language": "python",
   "name": "python3"
  },
  "language_info": {
   "codemirror_mode": {
    "name": "ipython",
    "version": 3
   },
   "file_extension": ".py",
   "mimetype": "text/x-python",
   "name": "python",
   "nbconvert_exporter": "python",
   "pygments_lexer": "ipython3",
   "version": "3.11.5"
  }
 },
 "nbformat": 4,
 "nbformat_minor": 5
}
